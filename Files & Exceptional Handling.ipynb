{
 "cells": [
  {
   "cell_type": "code",
   "execution_count": 1,
   "id": "528879ab-8753-41a6-bed6-ed252f010726",
   "metadata": {},
   "outputs": [],
   "source": [
    "# 1. Discuss the scenarios where multithreading is preferable to multiprocessing and scenarios where\n",
    "# multiprocessing is a better choice."
   ]
  },
  {
   "cell_type": "code",
   "execution_count": 2,
   "id": "54745527-345e-40e3-86ca-3d4f131cc135",
   "metadata": {},
   "outputs": [],
   "source": [
    "# Multithreading vs. Multiprocessing\n",
    "# Multithreading:\n",
    "# Scenarios where it is preferable:\n",
    "\n",
    "# I/O-bound tasks: Suitable for tasks that spend a lot of time waiting for I/O operations, such as reading/writing files, network operations, and database interactions.\n",
    "\n",
    "# Real-time applications: Useful in applications that require real-time performance, like GUI applications where the UI needs to be responsive while performing background tasks.\n",
    "\n",
    "# Shared data: When multiple threads need to share data, multithreading is easier because threads share the same memory space.\n",
    "\n",
    "# Examples:\n",
    "\n",
    "# Web servers handling multiple client requests.\n",
    "\n",
    "# Downloading files from the internet.\n",
    "\n",
    "# Reading multiple log files simultaneously.\n",
    "\n",
    "# Multiprocessing:\n",
    "# Scenarios where it is preferable:\n",
    "\n",
    "# CPU-bound tasks: Suitable for tasks that require heavy computation and benefit from parallel processing, such as mathematical computations, simulations, and data processing.\n",
    "\n",
    "# Independent tasks: When tasks do not need to share data frequently, multiprocessing provides better isolation and avoids the Global Interpreter Lock (GIL) in Python.\n",
    "\n",
    "# Examples:\n",
    "\n",
    "# Image processing and rendering.\n",
    "\n",
    "# Large-scale data analysis.\n",
    "\n",
    "# Scientific simulations."
   ]
  },
  {
   "cell_type": "code",
   "execution_count": 3,
   "id": "64137a27-8d1d-490a-868e-583fc9dae307",
   "metadata": {},
   "outputs": [],
   "source": [
    "# 2. Describe what a process pool is and how it helps in managing multiple processes efficiently."
   ]
  },
  {
   "cell_type": "code",
   "execution_count": 4,
   "id": "fa60e2af-e19e-4e1d-85b8-15fe808013b2",
   "metadata": {},
   "outputs": [],
   "source": [
    "# Process Pool\n",
    "# A process pool is a collection of worker processes that can be reused to execute multiple tasks concurrently. \n",
    "# It helps in managing multiple processes efficiently by:\n",
    "\n",
    "# Reusing processes: Instead of creating a new process for every task, a pool of processes is maintained, \n",
    "# reducing the overhead of process creation and destruction.\n",
    "\n",
    "# Load balancing: Tasks are distributed among the available processes, ensuring efficient use of system resources \n",
    "# and balancing the load.\n",
    "\n",
    "# Concurrency control: Limits the number of processes running concurrently, preventing system overload\n",
    "# and maintaining performance."
   ]
  },
  {
   "cell_type": "code",
   "execution_count": 5,
   "id": "faca914c-0f92-4c69-ab18-a84e7ba7a239",
   "metadata": {},
   "outputs": [],
   "source": [
    "# 3. Explain what multiprocessing is and why it is used in Python programs."
   ]
  },
  {
   "cell_type": "code",
   "execution_count": 6,
   "id": "2821d918-7e37-42ee-be4a-5025506c3009",
   "metadata": {},
   "outputs": [],
   "source": [
    "# Multiprocessing is a Python module that allows the creation of multiple processes to run concurrently. It is used to achieve parallelism and make full use of multiple CPU cores.\n",
    "\n",
    "# Why it's used:\n",
    "\n",
    "# Bypassing GIL: Python's Global Interpreter Lock (GIL) can limit the performance of multithreaded programs. Multiprocessing bypasses the GIL by using separate memory spaces for each process.\n",
    "\n",
    "# Improved performance: Allows true parallel execution on multi-core systems, improving performance for CPU-bound tasks.\n",
    "\n",
    "# Isolation: Each process runs in its own memory space, reducing the risk of memory corruption and enhancing stability."
   ]
  },
  {
   "cell_type": "code",
   "execution_count": 7,
   "id": "cde1dea1-ab90-4917-8ed3-0f90d30a88b1",
   "metadata": {},
   "outputs": [],
   "source": [
    "# 4. Write a Python program using multithreading where one thread adds numbers to a list, and another\n",
    "# thread removes numbers from the list. Implement a mechanism to avoid race conditions using\n",
    "# threading.Lock."
   ]
  },
  {
   "cell_type": "code",
   "execution_count": 8,
   "id": "0b4f4586-2ca3-47c6-829b-9de8071170c2",
   "metadata": {},
   "outputs": [
    {
     "name": "stdout",
     "output_type": "stream",
     "text": [
      "Added: 46\n",
      "Removed: 46\n",
      "Added: 41\n",
      "Removed: 41\n",
      "Added: 79\n",
      "Removed: 79\n",
      "Added: 10\n",
      "Removed: 10\n",
      "Added: 84\n",
      "Added: 67\n",
      "Removed: 84\n",
      "Removed: 67\n",
      "Added: 52\n",
      "Removed: 52\n",
      "Added: 3\n",
      "Removed: 3\n",
      "Added: 34\n",
      "Removed: 34\n",
      "Added: 54\n",
      "Final list: [54]\n"
     ]
    }
   ],
   "source": [
    "import threading\n",
    "import time\n",
    "from random import randint\n",
    "\n",
    "# Shared list and lock\n",
    "numbers = []\n",
    "lock = threading.Lock()\n",
    "\n",
    "def add_numbers():\n",
    "    for _ in range(10):\n",
    "        with lock:\n",
    "            num = randint(1, 100)\n",
    "            numbers.append(num)\n",
    "            print(f\"Added: {num}\")\n",
    "        time.sleep(0.1)\n",
    "\n",
    "def remove_numbers():\n",
    "    for _ in range(10):\n",
    "        with lock:\n",
    "            if numbers:\n",
    "                num = numbers.pop(0)\n",
    "                print(f\"Removed: {num}\")\n",
    "        time.sleep(0.1)\n",
    "\n",
    "# Create threads\n",
    "t1 = threading.Thread(target=add_numbers)\n",
    "t2 = threading.Thread(target=remove_numbers)\n",
    "\n",
    "# Start threads\n",
    "t1.start()\n",
    "t2.start()\n",
    "\n",
    "# Wait for threads to complete\n",
    "t1.join()\n",
    "t2.join()\n",
    "\n",
    "print(\"Final list:\", numbers)\n"
   ]
  },
  {
   "cell_type": "code",
   "execution_count": 9,
   "id": "ec9894f4-9669-4529-9ab8-a84340c43755",
   "metadata": {},
   "outputs": [],
   "source": [
    "# 5. Describe the methods and tools available in Python for safely sharing data between threads and\n",
    "# processes."
   ]
  },
  {
   "cell_type": "code",
   "execution_count": 10,
   "id": "040b6b05-ac54-486b-b9a9-ee2a84b39ccc",
   "metadata": {},
   "outputs": [],
   "source": [
    "# Safely Sharing Data\n",
    "# Threads:\n",
    "\n",
    "# Locks: threading.Lock, threading.RLock to ensure only one thread accesses a resource at a time.\n",
    "\n",
    "# Queues: queue.Queue to share data safely between threads.\n",
    "\n",
    "# Thread pool: concurrent.futures.ThreadPoolExecutor for managing threads efficiently.\n",
    "\n",
    "# Processes:\n",
    "\n",
    "# Queues and Pipes: multiprocessing.Queue, multiprocessing.Pipe for inter-process communication.\n",
    "\n",
    "# Shared memory: multiprocessing.Value, multiprocessing.Array for sharing simple data types.\n",
    "\n",
    "# Manager objects: multiprocessing.Manager to create shared objects like lists and dictionaries.\n",
    "\n",
    "# Process pool: concurrent.futures.ProcessPoolExecutor, multiprocessing.Pool for managing multiple processes efficiently."
   ]
  },
  {
   "cell_type": "code",
   "execution_count": 11,
   "id": "c3b1fa07-7d15-4716-8147-367e4d4dc593",
   "metadata": {},
   "outputs": [],
   "source": [
    "# 6. Discuss why it’s crucial to handle exceptions in concurrent programs and the techniques available for\n",
    "# doing so."
   ]
  },
  {
   "cell_type": "code",
   "execution_count": 12,
   "id": "566e34ed-9e96-4943-83bc-d68d7c08d51e",
   "metadata": {},
   "outputs": [],
   "source": [
    "# Handling Exceptions in Concurrent Programs\n",
    "# Handling exceptions is crucial to ensure robust and error-free concurrent programs. Techniques include:\n",
    "\n",
    "# Try-except blocks: Wrap concurrent code with try-except to catch and handle exceptions locally.\n",
    "\n",
    "# Error logging: Use logging to record errors for debugging and analysis.\n",
    "\n",
    "# Future objects: Use concurrent.futures to handle exceptions via future.result() which raises exceptions if the task fails.\n",
    "\n",
    "# Timeouts: Set timeouts to prevent operations from hanging indefinitely."
   ]
  },
  {
   "cell_type": "code",
   "execution_count": 13,
   "id": "2892a42d-d29e-4a8c-b587-02ce6f3996ac",
   "metadata": {},
   "outputs": [],
   "source": [
    "# 7. Create a program that uses a thread pool to calculate the factorial of numbers from 1 to 10 concurrently.\n",
    "# Use concurrent.futures.ThreadPoolExecutor to manage the threads."
   ]
  },
  {
   "cell_type": "code",
   "execution_count": 14,
   "id": "a932414c-058d-4b3c-8c7c-4bb1a77e93e8",
   "metadata": {},
   "outputs": [
    {
     "name": "stdout",
     "output_type": "stream",
     "text": [
      "Factorials: [1, 2, 6, 24, 120, 720, 5040, 40320, 362880, 3628800]\n"
     ]
    }
   ],
   "source": [
    "import concurrent.futures\n",
    "import math\n",
    "\n",
    "def factorial(n):\n",
    "    return math.factorial(n)\n",
    "\n",
    "# List of numbers to calculate factorial\n",
    "numbers = range(1, 11)\n",
    "\n",
    "# Use ThreadPoolExecutor\n",
    "with concurrent.futures.ThreadPoolExecutor(max_workers=5) as executor:\n",
    "    results = list(executor.map(factorial, numbers))\n",
    "\n",
    "print(\"Factorials:\", results)\n"
   ]
  },
  {
   "cell_type": "code",
   "execution_count": 21,
   "id": "b7e34d24-6562-4f1c-ba06-e85a14a6a4c7",
   "metadata": {},
   "outputs": [],
   "source": [
    "# 8. Create a Python program that uses multiprocessing.Pool to compute the square of numbers from 1 to 10 in\n",
    "# parallel. Measure the time taken to perform this computation using a pool of different sizes (e.g., 2, 4, 8\n",
    "# processes)."
   ]
  },
  {
   "cell_type": "code",
   "execution_count": 20,
   "id": "8555ce95-223c-4203-af49-b00d6ae7be61",
   "metadata": {},
   "outputs": [],
   "source": [
    "import multiprocessing\n",
    "import time\n",
    "\n",
    "# Function to compute the square of a number\n",
    "def square(n):\n",
    "    return n * n\n",
    "\n",
    "# List of numbers to compute the square of\n",
    "numbers = range(1, 11)\n",
    "\n",
    "# Function to compute squares with a given pool size and measure time taken\n",
    "def compute_squares(pool_size):\n",
    "    start_time = time.time()\n",
    "    with multiprocessing.Pool(processes=pool_size) as pool:\n",
    "        results = pool.map(square, numbers)\n",
    "    end_time = time.time()\n",
    "    return results, end_time - start_time\n",
    "\n",
    "# Measure time for different pool sizes\n",
    "pool_sizes = [2, 4, 8]\n",
    "for size in pool_sizes:\n",
    "    results, duration = compute_squares(size)\n",
    "    print(f\"Pool size: {size}, Results: {results}, Duration: {duration:.4f} seconds\")\n"
   ]
  },
  {
   "cell_type": "code",
   "execution_count": null,
   "id": "9dd37acc-7707-4a2d-a346-2c3a43003740",
   "metadata": {},
   "outputs": [],
   "source": []
  },
  {
   "cell_type": "code",
   "execution_count": null,
   "id": "64cf43c6-0a4f-47ce-b886-dcda2247fab0",
   "metadata": {},
   "outputs": [],
   "source": []
  }
 ],
 "metadata": {
  "kernelspec": {
   "display_name": "Python 3 (ipykernel)",
   "language": "python",
   "name": "python3"
  },
  "language_info": {
   "codemirror_mode": {
    "name": "ipython",
    "version": 3
   },
   "file_extension": ".py",
   "mimetype": "text/x-python",
   "name": "python",
   "nbconvert_exporter": "python",
   "pygments_lexer": "ipython3",
   "version": "3.12.3"
  }
 },
 "nbformat": 4,
 "nbformat_minor": 5
}
